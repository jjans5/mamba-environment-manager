{
 "cells": [
  {
   "cell_type": "markdown",
   "id": "26e8a09c",
   "metadata": {},
   "source": [
    "# Enhanced Environment Manager\n",
    "\n",
    "## New Features Demonstration\n",
    "\n",
    "This notebook demonstrates the new features added to the Environment Manager:\n",
    "\n",
    "1. **YAML Cleanup Function** - Remove old exported environment files\n",
    "2. **Jupyter Kernel Recreation** - Update kernel paths for environments\n",
    "3. **Enhanced Interactive Menu** - New options for cleanup and kernel management\n",
    "\n",
    "---"
   ]
  },
  {
   "cell_type": "markdown",
   "id": "b1b1ac23",
   "metadata": {},
   "source": [
    "## 1. Import and Initialize Environment Manager"
   ]
  },
  {
   "cell_type": "code",
   "execution_count": null,
   "id": "10ddb57e",
   "metadata": {},
   "outputs": [],
   "source": [
    "# Import the enhanced environment manager\n",
    "from environment_manager import EnvironmentManager\n",
    "from pathlib import Path\n",
    "import json\n",
    "\n",
    "# Initialize the manager\n",
    "manager = EnvironmentManager()\n",
    "print(\"✅ Environment Manager initialized\")\n",
    "print(f\"Export directory: {manager.export_dir}\")\n",
    "print(f\"Backup directory: {manager.backup_dir}\")"
   ]
  },
  {
   "cell_type": "markdown",
   "id": "dce977d7",
   "metadata": {},
   "source": [
    "## 2. YAML Cleanup Function\n",
    "\n",
    "The cleanup function removes old YAML files from the exported_environments directory."
   ]
  },
  {
   "cell_type": "code",
   "execution_count": null,
   "id": "6f185b63",
   "metadata": {},
   "outputs": [],
   "source": [
    "# Check current YAML files\n",
    "yaml_files = list(manager.export_dir.glob(\"*.yml\")) + list(manager.export_dir.glob(\"*.yaml\"))\n",
    "print(f\"Current YAML files: {len(yaml_files)}\")\n",
    "for file in yaml_files[:5]:  # Show first 5\n",
    "    print(f\"  - {file.name}\")\n",
    "if len(yaml_files) > 5:\n",
    "    print(f\"  ... and {len(yaml_files) - 5} more\")"
   ]
  },
  {
   "cell_type": "code",
   "execution_count": null,
   "id": "624c2bdc",
   "metadata": {},
   "outputs": [],
   "source": [
    "# Create a test YAML file for demonstration\n",
    "test_yaml = manager.export_dir / \"demo_test.yml\"\n",
    "test_yaml.write_text(\"\"\"name: demo_test\n",
    "channels:\n",
    "  - defaults\n",
    "  - conda-forge\n",
    "dependencies:\n",
    "  - python=3.9\n",
    "  - numpy\n",
    "  - pandas\n",
    "\"\"\")\n",
    "\n",
    "print(f\"Created test YAML file: {test_yaml.name}\")\n",
    "print(f\"File contents:\")\n",
    "print(test_yaml.read_text())"
   ]
  },
  {
   "cell_type": "code",
   "execution_count": null,
   "id": "f5a6bf49",
   "metadata": {},
   "outputs": [],
   "source": [
    "# Test the cleanup function (without confirmation for demo)\n",
    "print(\"Testing YAML cleanup function...\")\n",
    "success = manager.cleanup_exported_yaml_files(confirm=False)\n",
    "print(f\"\\nCleanup result: {'✅ Success' if success else '❌ Failed'}\")\n",
    "\n",
    "# Verify cleanup\n",
    "remaining_files = list(manager.export_dir.glob(\"*.yml\")) + list(manager.export_dir.glob(\"*.yaml\"))\n",
    "print(f\"Remaining YAML files: {len(remaining_files)}\")"
   ]
  },
  {
   "cell_type": "markdown",
   "id": "85822d2e",
   "metadata": {},
   "source": [
    "## 3. Environment Detection for Kernels\n",
    "\n",
    "The manager can detect which environments have Python or R installed."
   ]
  },
  {
   "cell_type": "code",
   "execution_count": null,
   "id": "29c66ba7",
   "metadata": {},
   "outputs": [],
   "source": [
    "# Get all environments\n",
    "environments = manager.list_environments()\n",
    "print(f\"Found {len(environments)} environments:\")\n",
    "\n",
    "# Check which environments have Python or R\n",
    "python_envs = []\n",
    "r_envs = []\n",
    "\n",
    "for env in environments:\n",
    "    if env['name'] in ['base', 'root']:\n",
    "        continue\n",
    "        \n",
    "    has_python = manager._environment_has_python(env['path'])\n",
    "    has_r = manager._environment_has_r(env['path'])\n",
    "    \n",
    "    print(f\"  {env['name']:15} - Python: {'✓' if has_python else '✗'}, R: {'✓' if has_r else '✗'}\")\n",
    "    \n",
    "    if has_python:\n",
    "        python_envs.append(env['name'])\n",
    "    if has_r:\n",
    "        r_envs.append(env['name'])\n",
    "\n",
    "print(f\"\\nEnvironments with Python: {python_envs}\")\n",
    "print(f\"Environments with R: {r_envs}\")"
   ]
  },
  {
   "cell_type": "markdown",
   "id": "0fd3deca",
   "metadata": {},
   "source": [
    "## 4. Jupyter Kernel Recreation\n",
    "\n",
    "The kernel recreation function creates or updates Jupyter kernels for environments."
   ]
  },
  {
   "cell_type": "code",
   "execution_count": null,
   "id": "3095d9af",
   "metadata": {},
   "outputs": [],
   "source": [
    "# Check current kernel directories\n",
    "kernel_base_dir = Path.home() / \".local\" / \"share\" / \"jupyter\" / \"kernels\"\n",
    "print(f\"Kernel base directory: {kernel_base_dir}\")\n",
    "\n",
    "if kernel_base_dir.exists():\n",
    "    existing_kernels = list(kernel_base_dir.iterdir())\n",
    "    print(f\"Existing kernels: {len(existing_kernels)}\")\n",
    "    for kernel in existing_kernels:\n",
    "        print(f\"  - {kernel.name}\")\n",
    "else:\n",
    "    print(\"Kernel directory does not exist yet\")"
   ]
  },
  {
   "cell_type": "code",
   "execution_count": null,
   "id": "6417d529",
   "metadata": {},
   "outputs": [],
   "source": [
    "# Test kernel recreation for one environment\n",
    "if python_envs:\n",
    "    test_env = python_envs[0]\n",
    "    print(f\"Testing kernel recreation for environment: {test_env}\")\n",
    "    \n",
    "    success = manager.recreate_jupyter_kernels([test_env])\n",
    "    print(f\"Kernel recreation result: {'✅ Success' if success else '❌ Failed'}\")\n",
    "    \n",
    "    # Check the created kernel\n",
    "    kernel_dir = manager._get_kernel_dir(test_env)\n",
    "    kernel_json = kernel_dir / \"kernel.json\"\n",
    "    \n",
    "    if kernel_json.exists():\n",
    "        print(f\"\\nKernel created at: {kernel_dir}\")\n",
    "        with open(kernel_json, 'r') as f:\n",
    "            kernel_config = json.load(f)\n",
    "        print(\"Kernel configuration:\")\n",
    "        print(json.dumps(kernel_config, indent=2))\n",
    "else:\n",
    "    print(\"No Python environments available for testing\")"
   ]
  },
  {
   "cell_type": "markdown",
   "id": "e15dbd8f",
   "metadata": {},
   "source": [
    "## 5. Interactive Menu Features\n",
    "\n",
    "The enhanced interactive menu now includes:\n",
    "\n",
    "1. Process all environments\n",
    "2. Select specific environments  \n",
    "3. Preview mode (show changes without processing)\n",
    "4. **🆕 Clean up exported YAML files**\n",
    "5. **🆕 Recreate Jupyter kernels**\n",
    "6. Exit\n",
    "\n",
    "### Usage Examples:"
   ]
  },
  {
   "cell_type": "code",
   "execution_count": null,
   "id": "46c3fdfc",
   "metadata": {},
   "outputs": [],
   "source": [
    "# Example of using the manager programmatically\n",
    "print(\"🔧 Programmatic Usage Examples:\")\n",
    "print()\n",
    "\n",
    "# 1. Cleanup with confirmation\n",
    "print(\"1. Cleanup YAML files:\")\n",
    "print(\"   manager.cleanup_exported_yaml_files(confirm=True)\")\n",
    "\n",
    "# 2. Recreate all kernels\n",
    "print(\"\\n2. Recreate all kernels:\")\n",
    "print(\"   manager.recreate_jupyter_kernels()\")\n",
    "\n",
    "# 3. Recreate specific kernels\n",
    "print(\"\\n3. Recreate specific kernels:\")\n",
    "print(\"   manager.recreate_jupyter_kernels(['env1', 'env2'])\")\n",
    "\n",
    "# 4. Interactive mode\n",
    "print(\"\\n4. Interactive mode:\")\n",
    "print(\"   manager.run_interactive_mode()\")"
   ]
  },
  {
   "cell_type": "markdown",
   "id": "5125dd38",
   "metadata": {},
   "source": [
    "## 6. Summary and Benefits\n",
    "\n",
    "### New Features:\n",
    "\n",
    "1. **YAML Cleanup Function**\n",
    "   - Removes old exported environment files\n",
    "   - Prevents directory clutter\n",
    "   - Optional confirmation prompt\n",
    "   - Comprehensive logging\n",
    "\n",
    "2. **Jupyter Kernel Recreation**\n",
    "   - Updates kernel paths for renamed/moved environments\n",
    "   - Preserves existing kernel configurations\n",
    "   - Supports both Python and R kernels\n",
    "   - Works with all or selected environments\n",
    "\n",
    "3. **Enhanced Interactive Menu**\n",
    "   - New menu options for cleanup and kernel management\n",
    "   - Selective environment processing\n",
    "   - User-friendly interface with confirmations\n",
    "\n",
    "### Benefits:\n",
    "\n",
    "- **Automated Maintenance**: Easy cleanup of old files\n",
    "- **Jupyter Integration**: Seamless kernel management\n",
    "- **Flexibility**: Work with all or specific environments\n",
    "- **Safety**: Confirmation prompts prevent accidental operations\n",
    "- **Logging**: Complete audit trail of all operations\n",
    "\n",
    "### Usage:\n",
    "\n",
    "```bash\n",
    "# Run the interactive manager\n",
    "python environment_manager.py\n",
    "\n",
    "# Then choose from the menu:\n",
    "# Option 4: Clean up exported YAML files\n",
    "# Option 5: Recreate Jupyter kernels\n",
    "```"
   ]
  }
 ],
 "metadata": {
  "language_info": {
   "name": "python"
  }
 },
 "nbformat": 4,
 "nbformat_minor": 5
}
